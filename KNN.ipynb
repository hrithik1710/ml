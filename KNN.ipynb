{
 "cells": [
  {
   "cell_type": "code",
   "execution_count": 1,
   "metadata": {},
   "outputs": [],
   "source": [
    "import pandas as pd\n",
    "import numpy as np\n",
    "import matplotlib.pyplot as plt"
   ]
  },
  {
   "cell_type": "code",
   "execution_count": 11,
   "metadata": {},
   "outputs": [
    {
     "name": "stdout",
     "output_type": "stream",
     "text": [
      "<class 'pandas.core.frame.DataFrame'>\n",
      "RangeIndex: 150 entries, 0 to 149\n",
      "Data columns (total 5 columns):\n",
      " #   Column        Non-Null Count  Dtype  \n",
      "---  ------        --------------  -----  \n",
      " 0   sepal.length  150 non-null    float64\n",
      " 1   sepal.width   150 non-null    float64\n",
      " 2   petal.length  150 non-null    float64\n",
      " 3   petal.width   150 non-null    float64\n",
      " 4   variety       150 non-null    object \n",
      "dtypes: float64(4), object(1)\n",
      "memory usage: 5.3+ KB\n"
     ]
    }
   ],
   "source": [
    "df=pd.read_csv(r\"C:\\Users\\Hritik\\Desktop\\iris_data.csv\")\n",
    "df.info()"
   ]
  },
  {
   "cell_type": "code",
   "execution_count": 3,
   "metadata": {},
   "outputs": [
    {
     "data": {
      "text/html": [
       "<div>\n",
       "<style scoped>\n",
       "    .dataframe tbody tr th:only-of-type {\n",
       "        vertical-align: middle;\n",
       "    }\n",
       "\n",
       "    .dataframe tbody tr th {\n",
       "        vertical-align: top;\n",
       "    }\n",
       "\n",
       "    .dataframe thead th {\n",
       "        text-align: right;\n",
       "    }\n",
       "</style>\n",
       "<table border=\"1\" class=\"dataframe\">\n",
       "  <thead>\n",
       "    <tr style=\"text-align: right;\">\n",
       "      <th></th>\n",
       "      <th>sepal.length</th>\n",
       "      <th>sepal.width</th>\n",
       "      <th>petal.length</th>\n",
       "      <th>petal.width</th>\n",
       "      <th>variety</th>\n",
       "    </tr>\n",
       "  </thead>\n",
       "  <tbody>\n",
       "    <tr>\n",
       "      <th>0</th>\n",
       "      <td>5.1</td>\n",
       "      <td>3.5</td>\n",
       "      <td>1.4</td>\n",
       "      <td>0.2</td>\n",
       "      <td>Setosa</td>\n",
       "    </tr>\n",
       "    <tr>\n",
       "      <th>1</th>\n",
       "      <td>4.9</td>\n",
       "      <td>3.0</td>\n",
       "      <td>1.4</td>\n",
       "      <td>0.2</td>\n",
       "      <td>Setosa</td>\n",
       "    </tr>\n",
       "    <tr>\n",
       "      <th>2</th>\n",
       "      <td>4.7</td>\n",
       "      <td>3.2</td>\n",
       "      <td>1.3</td>\n",
       "      <td>0.2</td>\n",
       "      <td>Setosa</td>\n",
       "    </tr>\n",
       "    <tr>\n",
       "      <th>3</th>\n",
       "      <td>4.6</td>\n",
       "      <td>3.1</td>\n",
       "      <td>1.5</td>\n",
       "      <td>0.2</td>\n",
       "      <td>Setosa</td>\n",
       "    </tr>\n",
       "    <tr>\n",
       "      <th>4</th>\n",
       "      <td>5.0</td>\n",
       "      <td>3.6</td>\n",
       "      <td>1.4</td>\n",
       "      <td>0.2</td>\n",
       "      <td>Setosa</td>\n",
       "    </tr>\n",
       "  </tbody>\n",
       "</table>\n",
       "</div>"
      ],
      "text/plain": [
       "   sepal.length  sepal.width  petal.length  petal.width variety\n",
       "0           5.1          3.5           1.4          0.2  Setosa\n",
       "1           4.9          3.0           1.4          0.2  Setosa\n",
       "2           4.7          3.2           1.3          0.2  Setosa\n",
       "3           4.6          3.1           1.5          0.2  Setosa\n",
       "4           5.0          3.6           1.4          0.2  Setosa"
      ]
     },
     "execution_count": 3,
     "metadata": {},
     "output_type": "execute_result"
    }
   ],
   "source": [
    "df.head()"
   ]
  },
  {
   "cell_type": "code",
   "execution_count": 4,
   "metadata": {},
   "outputs": [
    {
     "data": {
      "text/html": [
       "<div>\n",
       "<style scoped>\n",
       "    .dataframe tbody tr th:only-of-type {\n",
       "        vertical-align: middle;\n",
       "    }\n",
       "\n",
       "    .dataframe tbody tr th {\n",
       "        vertical-align: top;\n",
       "    }\n",
       "\n",
       "    .dataframe thead th {\n",
       "        text-align: right;\n",
       "    }\n",
       "</style>\n",
       "<table border=\"1\" class=\"dataframe\">\n",
       "  <thead>\n",
       "    <tr style=\"text-align: right;\">\n",
       "      <th></th>\n",
       "      <th>sepal.length</th>\n",
       "      <th>sepal.width</th>\n",
       "      <th>petal.length</th>\n",
       "      <th>petal.width</th>\n",
       "    </tr>\n",
       "  </thead>\n",
       "  <tbody>\n",
       "    <tr>\n",
       "      <th>0</th>\n",
       "      <td>5.1</td>\n",
       "      <td>3.5</td>\n",
       "      <td>1.4</td>\n",
       "      <td>0.2</td>\n",
       "    </tr>\n",
       "    <tr>\n",
       "      <th>1</th>\n",
       "      <td>4.9</td>\n",
       "      <td>3.0</td>\n",
       "      <td>1.4</td>\n",
       "      <td>0.2</td>\n",
       "    </tr>\n",
       "    <tr>\n",
       "      <th>2</th>\n",
       "      <td>4.7</td>\n",
       "      <td>3.2</td>\n",
       "      <td>1.3</td>\n",
       "      <td>0.2</td>\n",
       "    </tr>\n",
       "    <tr>\n",
       "      <th>3</th>\n",
       "      <td>4.6</td>\n",
       "      <td>3.1</td>\n",
       "      <td>1.5</td>\n",
       "      <td>0.2</td>\n",
       "    </tr>\n",
       "    <tr>\n",
       "      <th>4</th>\n",
       "      <td>5.0</td>\n",
       "      <td>3.6</td>\n",
       "      <td>1.4</td>\n",
       "      <td>0.2</td>\n",
       "    </tr>\n",
       "  </tbody>\n",
       "</table>\n",
       "</div>"
      ],
      "text/plain": [
       "   sepal.length  sepal.width  petal.length  petal.width\n",
       "0           5.1          3.5           1.4          0.2\n",
       "1           4.9          3.0           1.4          0.2\n",
       "2           4.7          3.2           1.3          0.2\n",
       "3           4.6          3.1           1.5          0.2\n",
       "4           5.0          3.6           1.4          0.2"
      ]
     },
     "execution_count": 4,
     "metadata": {},
     "output_type": "execute_result"
    }
   ],
   "source": [
    "x=df.iloc[:,0:-1]\n",
    "x.head()"
   ]
  },
  {
   "cell_type": "code",
   "execution_count": 6,
   "metadata": {},
   "outputs": [
    {
     "data": {
      "text/plain": [
       "0    Setosa\n",
       "1    Setosa\n",
       "2    Setosa\n",
       "3    Setosa\n",
       "4    Setosa\n",
       "Name: variety, dtype: object"
      ]
     },
     "execution_count": 6,
     "metadata": {},
     "output_type": "execute_result"
    }
   ],
   "source": [
    "y=df.iloc[:,4]\n",
    "y.head()"
   ]
  },
  {
   "cell_type": "code",
   "execution_count": 7,
   "metadata": {},
   "outputs": [],
   "source": [
    "from sklearn.model_selection import train_test_split"
   ]
  },
  {
   "cell_type": "code",
   "execution_count": 8,
   "metadata": {},
   "outputs": [],
   "source": [
    "x_train,x_test,y_train,y_test=train_test_split(x,y,test_size=0.2,random_state=1)"
   ]
  },
  {
   "cell_type": "code",
   "execution_count": 22,
   "metadata": {},
   "outputs": [
    {
     "data": {
      "text/html": [
       "<div>\n",
       "<style scoped>\n",
       "    .dataframe tbody tr th:only-of-type {\n",
       "        vertical-align: middle;\n",
       "    }\n",
       "\n",
       "    .dataframe tbody tr th {\n",
       "        vertical-align: top;\n",
       "    }\n",
       "\n",
       "    .dataframe thead th {\n",
       "        text-align: right;\n",
       "    }\n",
       "</style>\n",
       "<table border=\"1\" class=\"dataframe\">\n",
       "  <thead>\n",
       "    <tr style=\"text-align: right;\">\n",
       "      <th></th>\n",
       "      <th>sepal.length</th>\n",
       "      <th>sepal.width</th>\n",
       "      <th>petal.length</th>\n",
       "      <th>petal.width</th>\n",
       "    </tr>\n",
       "  </thead>\n",
       "  <tbody>\n",
       "    <tr>\n",
       "      <th>91</th>\n",
       "      <td>6.1</td>\n",
       "      <td>3.0</td>\n",
       "      <td>4.6</td>\n",
       "      <td>1.4</td>\n",
       "    </tr>\n",
       "    <tr>\n",
       "      <th>135</th>\n",
       "      <td>7.7</td>\n",
       "      <td>3.0</td>\n",
       "      <td>6.1</td>\n",
       "      <td>2.3</td>\n",
       "    </tr>\n",
       "    <tr>\n",
       "      <th>69</th>\n",
       "      <td>5.6</td>\n",
       "      <td>2.5</td>\n",
       "      <td>3.9</td>\n",
       "      <td>1.1</td>\n",
       "    </tr>\n",
       "    <tr>\n",
       "      <th>128</th>\n",
       "      <td>6.4</td>\n",
       "      <td>2.8</td>\n",
       "      <td>5.6</td>\n",
       "      <td>2.1</td>\n",
       "    </tr>\n",
       "    <tr>\n",
       "      <th>114</th>\n",
       "      <td>5.8</td>\n",
       "      <td>2.8</td>\n",
       "      <td>5.1</td>\n",
       "      <td>2.4</td>\n",
       "    </tr>\n",
       "    <tr>\n",
       "      <th>...</th>\n",
       "      <td>...</td>\n",
       "      <td>...</td>\n",
       "      <td>...</td>\n",
       "      <td>...</td>\n",
       "    </tr>\n",
       "    <tr>\n",
       "      <th>133</th>\n",
       "      <td>6.3</td>\n",
       "      <td>2.8</td>\n",
       "      <td>5.1</td>\n",
       "      <td>1.5</td>\n",
       "    </tr>\n",
       "    <tr>\n",
       "      <th>137</th>\n",
       "      <td>6.4</td>\n",
       "      <td>3.1</td>\n",
       "      <td>5.5</td>\n",
       "      <td>1.8</td>\n",
       "    </tr>\n",
       "    <tr>\n",
       "      <th>72</th>\n",
       "      <td>6.3</td>\n",
       "      <td>2.5</td>\n",
       "      <td>4.9</td>\n",
       "      <td>1.5</td>\n",
       "    </tr>\n",
       "    <tr>\n",
       "      <th>140</th>\n",
       "      <td>6.7</td>\n",
       "      <td>3.1</td>\n",
       "      <td>5.6</td>\n",
       "      <td>2.4</td>\n",
       "    </tr>\n",
       "    <tr>\n",
       "      <th>37</th>\n",
       "      <td>4.9</td>\n",
       "      <td>3.6</td>\n",
       "      <td>1.4</td>\n",
       "      <td>0.1</td>\n",
       "    </tr>\n",
       "  </tbody>\n",
       "</table>\n",
       "<p>120 rows × 4 columns</p>\n",
       "</div>"
      ],
      "text/plain": [
       "     sepal.length  sepal.width  petal.length  petal.width\n",
       "91            6.1          3.0           4.6          1.4\n",
       "135           7.7          3.0           6.1          2.3\n",
       "69            5.6          2.5           3.9          1.1\n",
       "128           6.4          2.8           5.6          2.1\n",
       "114           5.8          2.8           5.1          2.4\n",
       "..            ...          ...           ...          ...\n",
       "133           6.3          2.8           5.1          1.5\n",
       "137           6.4          3.1           5.5          1.8\n",
       "72            6.3          2.5           4.9          1.5\n",
       "140           6.7          3.1           5.6          2.4\n",
       "37            4.9          3.6           1.4          0.1\n",
       "\n",
       "[120 rows x 4 columns]"
      ]
     },
     "execution_count": 22,
     "metadata": {},
     "output_type": "execute_result"
    }
   ],
   "source": [
    "x_train"
   ]
  },
  {
   "cell_type": "code",
   "execution_count": 14,
   "metadata": {},
   "outputs": [
    {
     "name": "stdout",
     "output_type": "stream",
     "text": [
      "<class 'pandas.core.frame.DataFrame'>\n",
      "Int64Index: 30 entries, 14 to 146\n",
      "Data columns (total 4 columns):\n",
      " #   Column        Non-Null Count  Dtype  \n",
      "---  ------        --------------  -----  \n",
      " 0   sepal.length  30 non-null     float64\n",
      " 1   sepal.width   30 non-null     float64\n",
      " 2   petal.length  30 non-null     float64\n",
      " 3   petal.width   30 non-null     float64\n",
      "dtypes: float64(4)\n",
      "memory usage: 1.2 KB\n"
     ]
    }
   ],
   "source": [
    "x_test.info()"
   ]
  },
  {
   "cell_type": "code",
   "execution_count": 15,
   "metadata": {},
   "outputs": [],
   "source": [
    "from sklearn.preprocessing import StandardScaler"
   ]
  },
  {
   "cell_type": "code",
   "execution_count": 19,
   "metadata": {},
   "outputs": [],
   "source": [
    "scalar=StandardScaler()"
   ]
  },
  {
   "cell_type": "code",
   "execution_count": 20,
   "metadata": {},
   "outputs": [
    {
     "data": {
      "text/plain": [
       "StandardScaler()"
      ]
     },
     "execution_count": 20,
     "metadata": {},
     "output_type": "execute_result"
    }
   ],
   "source": [
    "scalar.fit(x_train)"
   ]
  },
  {
   "cell_type": "code",
   "execution_count": 21,
   "metadata": {},
   "outputs": [
    {
     "data": {
      "text/html": [
       "<div>\n",
       "<style scoped>\n",
       "    .dataframe tbody tr th:only-of-type {\n",
       "        vertical-align: middle;\n",
       "    }\n",
       "\n",
       "    .dataframe tbody tr th {\n",
       "        vertical-align: top;\n",
       "    }\n",
       "\n",
       "    .dataframe thead th {\n",
       "        text-align: right;\n",
       "    }\n",
       "</style>\n",
       "<table border=\"1\" class=\"dataframe\">\n",
       "  <thead>\n",
       "    <tr style=\"text-align: right;\">\n",
       "      <th></th>\n",
       "      <th>sepal.length</th>\n",
       "      <th>sepal.width</th>\n",
       "      <th>petal.length</th>\n",
       "      <th>petal.width</th>\n",
       "    </tr>\n",
       "  </thead>\n",
       "  <tbody>\n",
       "    <tr>\n",
       "      <th>91</th>\n",
       "      <td>6.1</td>\n",
       "      <td>3.0</td>\n",
       "      <td>4.6</td>\n",
       "      <td>1.4</td>\n",
       "    </tr>\n",
       "    <tr>\n",
       "      <th>135</th>\n",
       "      <td>7.7</td>\n",
       "      <td>3.0</td>\n",
       "      <td>6.1</td>\n",
       "      <td>2.3</td>\n",
       "    </tr>\n",
       "    <tr>\n",
       "      <th>69</th>\n",
       "      <td>5.6</td>\n",
       "      <td>2.5</td>\n",
       "      <td>3.9</td>\n",
       "      <td>1.1</td>\n",
       "    </tr>\n",
       "    <tr>\n",
       "      <th>128</th>\n",
       "      <td>6.4</td>\n",
       "      <td>2.8</td>\n",
       "      <td>5.6</td>\n",
       "      <td>2.1</td>\n",
       "    </tr>\n",
       "    <tr>\n",
       "      <th>114</th>\n",
       "      <td>5.8</td>\n",
       "      <td>2.8</td>\n",
       "      <td>5.1</td>\n",
       "      <td>2.4</td>\n",
       "    </tr>\n",
       "    <tr>\n",
       "      <th>...</th>\n",
       "      <td>...</td>\n",
       "      <td>...</td>\n",
       "      <td>...</td>\n",
       "      <td>...</td>\n",
       "    </tr>\n",
       "    <tr>\n",
       "      <th>133</th>\n",
       "      <td>6.3</td>\n",
       "      <td>2.8</td>\n",
       "      <td>5.1</td>\n",
       "      <td>1.5</td>\n",
       "    </tr>\n",
       "    <tr>\n",
       "      <th>137</th>\n",
       "      <td>6.4</td>\n",
       "      <td>3.1</td>\n",
       "      <td>5.5</td>\n",
       "      <td>1.8</td>\n",
       "    </tr>\n",
       "    <tr>\n",
       "      <th>72</th>\n",
       "      <td>6.3</td>\n",
       "      <td>2.5</td>\n",
       "      <td>4.9</td>\n",
       "      <td>1.5</td>\n",
       "    </tr>\n",
       "    <tr>\n",
       "      <th>140</th>\n",
       "      <td>6.7</td>\n",
       "      <td>3.1</td>\n",
       "      <td>5.6</td>\n",
       "      <td>2.4</td>\n",
       "    </tr>\n",
       "    <tr>\n",
       "      <th>37</th>\n",
       "      <td>4.9</td>\n",
       "      <td>3.6</td>\n",
       "      <td>1.4</td>\n",
       "      <td>0.1</td>\n",
       "    </tr>\n",
       "  </tbody>\n",
       "</table>\n",
       "<p>120 rows × 4 columns</p>\n",
       "</div>"
      ],
      "text/plain": [
       "     sepal.length  sepal.width  petal.length  petal.width\n",
       "91            6.1          3.0           4.6          1.4\n",
       "135           7.7          3.0           6.1          2.3\n",
       "69            5.6          2.5           3.9          1.1\n",
       "128           6.4          2.8           5.6          2.1\n",
       "114           5.8          2.8           5.1          2.4\n",
       "..            ...          ...           ...          ...\n",
       "133           6.3          2.8           5.1          1.5\n",
       "137           6.4          3.1           5.5          1.8\n",
       "72            6.3          2.5           4.9          1.5\n",
       "140           6.7          3.1           5.6          2.4\n",
       "37            4.9          3.6           1.4          0.1\n",
       "\n",
       "[120 rows x 4 columns]"
      ]
     },
     "execution_count": 21,
     "metadata": {},
     "output_type": "execute_result"
    }
   ],
   "source": [
    "x_train"
   ]
  },
  {
   "cell_type": "code",
   "execution_count": 26,
   "metadata": {},
   "outputs": [],
   "source": [
    "x_train=scalar.transform(x_train)"
   ]
  },
  {
   "cell_type": "code",
   "execution_count": 27,
   "metadata": {},
   "outputs": [],
   "source": [
    "x_test=scalar.transform(x_test)"
   ]
  },
  {
   "cell_type": "code",
   "execution_count": 30,
   "metadata": {},
   "outputs": [
    {
     "data": {
      "text/plain": [
       "array([[-15.07114024, -24.70518304,  -3.23876315,  -3.22345356],\n",
       "       [-12.26555107, -24.70518304,  -2.9658029 ,  -1.27829279],\n",
       "       [-15.94788686, -31.52243688,  -3.3661446 ,  -3.87184049],\n",
       "       [-14.54509227, -27.43208457,  -3.05678965,  -1.71055074],\n",
       "       [-15.59718822, -27.43208457,  -3.1477764 ,  -1.06216381],\n",
       "       [-16.47393483, -15.16102766,  -3.80288099,  -5.81700126],\n",
       "       [-16.12323619, -34.24933841,  -3.34794725,  -3.43958254],\n",
       "       [-16.64928416, -19.25137997,  -3.82107834,  -5.81700126],\n",
       "       [-14.36974295, -27.43208457,  -3.23876315,  -3.00732459],\n",
       "       [-14.0190443 , -31.52243688,  -3.02039495,  -2.35893766],\n",
       "       [-13.84369498, -24.70518304,  -3.074987  ,  -1.71055074],\n",
       "       [-16.82463348, -17.8879292 ,  -3.82107834,  -5.60087228],\n",
       "       [-15.24648957, -35.61278918,  -3.16597375,  -3.00732459],\n",
       "       [-14.7204416 , -26.06863381,  -3.05678965,  -2.35893766],\n",
       "       [-14.19439363, -26.06863381,  -3.23876315,  -3.43958254],\n",
       "       [-12.26555107, -30.15898611,  -2.82022411,  -1.27829279],\n",
       "       [-15.77253754, -13.7975769 ,  -3.76648629,  -5.60087228],\n",
       "       [-16.9999828 , -16.52447843,  -3.82107834,  -5.81700126],\n",
       "       [-17.35068145, -24.70518304,  -3.82107834,  -5.60087228],\n",
       "       [-16.64928416, -28.79553534,  -3.3661446 ,  -3.22345356],\n",
       "       [-16.82463348, -19.25137997,  -3.80288099,  -5.81700126],\n",
       "       [-16.12323619, -17.8879292 ,  -3.83927569,  -5.81700126],\n",
       "       [-12.26555107, -13.7975769 ,  -2.85661881,  -1.49442176],\n",
       "       [-13.66834566, -23.34173227,  -3.09318435,  -1.71055074],\n",
       "       [-12.96694836, -26.06863381,  -2.9294082 ,  -2.35893766],\n",
       "       [-14.54509227, -27.43208457,  -3.05678965,  -1.49442176],\n",
       "       [-14.89579092, -27.43208457,  -3.20236845,  -2.35893766],\n",
       "       [-15.24648957, -19.25137997,  -3.2569605 ,  -2.79119561],\n",
       "       [-12.26555107, -27.43208457,  -2.85661881,  -1.92667971],\n",
       "       [-15.77253754, -24.70518304,  -3.31155255,  -3.65571151],\n",
       "       [-17.35068145, -19.25137997,  -3.78468364,  -5.81700126],\n",
       "       [-15.77253754, -31.52243688,  -3.16597375,  -1.92667971],\n",
       "       [-14.7204416 , -28.79553534,  -3.1841711 ,  -2.35893766],\n",
       "       [-17.35068145, -24.70518304,  -3.82107834,  -6.03313023],\n",
       "       [-17.52603077, -21.9782815 ,  -3.83927569,  -5.81700126],\n",
       "       [-14.36974295, -24.70518304,  -3.02039495,  -1.49442176],\n",
       "       [-17.7013801 , -19.25137997,  -3.82107834,  -5.60087228],\n",
       "       [-15.07114024, -24.70518304,  -3.1841711 ,  -2.35893766],\n",
       "       [-14.36974295, -21.9782815 ,  -3.1477764 ,  -1.92667971],\n",
       "       [-14.0190443 , -23.34173227,  -3.27515785,  -3.22345356],\n",
       "       [-15.77253754, -27.43208457,  -3.2569605 ,  -3.43958254],\n",
       "       [-14.0190443 , -20.61483073,  -3.0385923 ,  -0.84603484],\n",
       "       [-15.24648957, -24.70518304,  -3.20236845,  -2.35893766],\n",
       "       [-16.82463348, -13.7975769 ,  -3.78468364,  -5.81700126],\n",
       "       [-15.24648957, -35.61278918,  -3.34794725,  -4.08796946],\n",
       "       [-14.54509227, -26.06863381,  -3.2933552 ,  -3.43958254],\n",
       "       [-14.36974295, -24.70518304,  -3.074987  ,  -2.35893766],\n",
       "       [-16.9999828 , -34.24933841,  -3.4753287 ,  -4.08796946],\n",
       "       [-14.7204416 , -20.61483073,  -2.98400025,  -0.84603484],\n",
       "       [-16.12323619, -31.52243688,  -3.34794725,  -3.43958254],\n",
       "       [-16.29858551, -15.16102766,  -3.80288099,  -5.81700126],\n",
       "       [-17.17533213, -23.34173227,  -3.80288099,  -5.81700126],\n",
       "       [-16.64928416,  -9.70722459,  -3.80288099,  -6.03313023],\n",
       "       [-14.0190443 , -20.61483073,  -3.0385923 ,  -1.71055074],\n",
       "       [-18.05207874, -24.70518304,  -3.83927569,  -5.81700126],\n",
       "       [-15.24648957, -28.79553534,  -3.1477764 ,  -2.79119561],\n",
       "       [-14.54509227, -28.79553534,  -3.1113817 ,  -2.14280869],\n",
       "       [-15.42183889, -24.70518304,  -3.1477764 ,  -2.35893766],\n",
       "       [-16.64928416, -17.8879292 ,  -3.80288099,  -5.81700126],\n",
       "       [-16.82463348, -20.61483073,  -3.76648629,  -5.16861433],\n",
       "       [-15.59718822, -28.79553534,  -3.3297499 ,  -4.08796946],\n",
       "       [-17.17533213, -23.34173227,  -3.80288099,  -6.03313023],\n",
       "       [-12.79159904, -27.43208457,  -2.9658029 ,  -2.14280869],\n",
       "       [-14.89579092, -26.06863381,  -3.2933552 ,  -3.43958254],\n",
       "       [-12.44090039, -24.70518304,  -2.87481616,  -1.71055074],\n",
       "       [-14.0190443 , -24.70518304,  -3.12957905,  -1.27829279],\n",
       "       [-14.7204416 , -34.24933841,  -3.27515785,  -3.43958254],\n",
       "       [-14.89579092, -19.25137997,  -3.09318435,  -1.27829279],\n",
       "       [-13.14229769, -16.52447843,  -2.9658029 ,  -0.84603484],\n",
       "       [-15.94788686, -26.06863381,  -3.42073665,  -3.43958254],\n",
       "       [-15.77253754,  -5.61687229,  -3.80288099,  -5.38474331],\n",
       "       [-15.59718822, -28.79553534,  -3.3661446 ,  -3.65571151],\n",
       "       [-17.87672942, -34.24933841,  -3.83927569,  -5.60087228],\n",
       "       [-16.12323619, -32.88588765,  -3.38434195,  -3.87184049],\n",
       "       [-13.66834566, -23.34173227,  -3.1841711 ,  -3.00732459],\n",
       "       [-16.9999828 , -19.25137997,  -3.78468364,  -5.38474331],\n",
       "       [-13.84369498, -27.43208457,  -3.20236845,  -3.22345356],\n",
       "       [-16.9999828 , -17.8879292 ,  -3.78468364,  -4.95248536],\n",
       "       [-17.35068145, -19.25137997,  -3.73009159,  -5.81700126],\n",
       "       [-14.7204416 , -19.25137997,  -3.05678965,  -1.06216381],\n",
       "       [-15.94788686, -27.43208457,  -3.1841711 ,  -1.92667971],\n",
       "       [-13.84369498, -21.9782815 ,  -3.0021976 ,  -1.27829279],\n",
       "       [-16.9999828 , -20.61483073,  -3.82107834,  -5.81700126],\n",
       "       [-16.82463348, -15.16102766,  -3.80288099,  -5.38474331],\n",
       "       [-15.42183889, -21.9782815 ,  -3.20236845,  -2.35893766],\n",
       "       [-17.7013801 , -23.34173227,  -3.80288099,  -5.81700126],\n",
       "       [-15.59718822, -28.79553534,  -3.1477764 ,  -2.14280869],\n",
       "       [-17.35068145, -23.34173227,  -3.78468364,  -5.81700126],\n",
       "       [-14.36974295, -24.70518304,  -3.12957905,  -1.92667971],\n",
       "       [-17.17533213, -31.52243688,  -3.2569605 ,  -2.57506664],\n",
       "       [-17.7013801 , -21.9782815 ,  -3.82107834,  -5.81700126],\n",
       "       [-14.54509227, -21.9782815 ,  -3.1113817 ,  -1.27829279],\n",
       "       [-18.22742807, -24.70518304,  -3.87567039,  -6.03313023],\n",
       "       [-15.94788686, -24.70518304,  -3.3297499 ,  -3.43958254],\n",
       "       [-18.05207874, -26.06863381,  -3.82107834,  -5.81700126],\n",
       "       [-16.12323619, -32.88588765,  -3.4025393 ,  -4.08796946],\n",
       "       [-16.9999828 , -38.33969072,  -3.438934  ,  -4.08796946],\n",
       "       [-16.82463348, -17.8879292 ,  -3.82107834,  -5.81700126],\n",
       "       [-17.17533213, -24.70518304,  -3.82107834,  -5.81700126],\n",
       "       [-17.17533213, -32.88588765,  -3.4753287 ,  -4.08796946],\n",
       "       [-17.7013801 , -16.52447843,  -3.89386774,  -5.81700126],\n",
       "       [-15.42183889, -24.70518304,  -3.31155255,  -3.00732459],\n",
       "       [-15.07114024, -26.06863381,  -3.2205658 ,  -3.22345356],\n",
       "       [-16.9999828 , -19.25137997,  -3.80288099,  -5.81700126],\n",
       "       [-14.0190443 , -23.34173227,  -3.2205658 ,  -3.00732459],\n",
       "       [-15.77253754, -26.06863381,  -3.31155255,  -3.43958254],\n",
       "       [-14.89579092, -35.61278918,  -3.2569605 ,  -3.00732459],\n",
       "       [-13.49299633, -21.9782815 ,  -3.2205658 ,  -3.22345356],\n",
       "       [-15.59718822, -28.79553534,  -3.1477764 ,  -2.14280869],\n",
       "       [-16.29858551, -19.25137997,  -3.76648629,  -5.81700126],\n",
       "       [-16.9999828 , -24.70518304,  -3.78468364,  -5.81700126],\n",
       "       [-15.07114024, -30.15898611,  -3.05678965,  -3.22345356],\n",
       "       [-15.07114024, -27.43208457,  -3.34794725,  -3.43958254],\n",
       "       [-13.14229769, -24.70518304,  -3.02039495,  -2.79119561],\n",
       "       [-15.77253754, -30.15898611,  -3.438934  ,  -4.08796946],\n",
       "       [-14.7204416 , -27.43208457,  -3.1477764 ,  -3.00732459],\n",
       "       [-14.54509227, -23.34173227,  -3.074987  ,  -2.35893766],\n",
       "       [-14.7204416 , -31.52243688,  -3.1841711 ,  -3.00732459],\n",
       "       [-14.0190443 , -23.34173227,  -3.05678965,  -1.06216381],\n",
       "       [-17.17533213, -16.52447843,  -3.82107834,  -6.03313023]])"
      ]
     },
     "execution_count": 30,
     "metadata": {},
     "output_type": "execute_result"
    }
   ],
   "source": [
    "x_train"
   ]
  },
  {
   "cell_type": "code",
   "execution_count": 32,
   "metadata": {},
   "outputs": [
    {
     "data": {
      "text/plain": [
       "KNeighborsClassifier()"
      ]
     },
     "execution_count": 32,
     "metadata": {},
     "output_type": "execute_result"
    }
   ],
   "source": [
    "from sklearn.neighbors import KNeighborsClassifier\n",
    "classifier=KNeighborsClassifier(n_neighbors=5)\n",
    "classifier.fit(x_train,y_train)"
   ]
  },
  {
   "cell_type": "code",
   "execution_count": 33,
   "metadata": {},
   "outputs": [],
   "source": [
    "yp=classifier.predict(x_test)"
   ]
  },
  {
   "cell_type": "code",
   "execution_count": 35,
   "metadata": {},
   "outputs": [
    {
     "name": "stdout",
     "output_type": "stream",
     "text": [
      "[[11  0  0]\n",
      " [13  0  0]\n",
      " [ 6  0  0]]\n"
     ]
    }
   ],
   "source": [
    "from sklearn import metrics\n",
    "print(metrics.confusion_matrix(y_test,yp))"
   ]
  },
  {
   "cell_type": "code",
   "execution_count": 36,
   "metadata": {},
   "outputs": [
    {
     "name": "stdout",
     "output_type": "stream",
     "text": [
      "              precision    recall  f1-score   support\n",
      "\n",
      "      Setosa       0.37      1.00      0.54        11\n",
      "  Versicolor       0.00      0.00      0.00        13\n",
      "   Virginica       0.00      0.00      0.00         6\n",
      "\n",
      "    accuracy                           0.37        30\n",
      "   macro avg       0.12      0.33      0.18        30\n",
      "weighted avg       0.13      0.37      0.20        30\n",
      "\n"
     ]
    },
    {
     "name": "stderr",
     "output_type": "stream",
     "text": [
      "C:\\Users\\Hritik\\anaconda3\\lib\\site-packages\\sklearn\\metrics\\_classification.py:1221: UndefinedMetricWarning: Precision and F-score are ill-defined and being set to 0.0 in labels with no predicted samples. Use `zero_division` parameter to control this behavior.\n",
      "  _warn_prf(average, modifier, msg_start, len(result))\n"
     ]
    }
   ],
   "source": [
    "print(metrics.classification_report(y_test,yp))"
   ]
  },
  {
   "cell_type": "code",
   "execution_count": null,
   "metadata": {},
   "outputs": [],
   "source": []
  }
 ],
 "metadata": {
  "kernelspec": {
   "display_name": "Python 3",
   "language": "python",
   "name": "python3"
  },
  "language_info": {
   "codemirror_mode": {
    "name": "ipython",
    "version": 3
   },
   "file_extension": ".py",
   "mimetype": "text/x-python",
   "name": "python",
   "nbconvert_exporter": "python",
   "pygments_lexer": "ipython3",
   "version": "3.8.3"
  }
 },
 "nbformat": 4,
 "nbformat_minor": 4
}
