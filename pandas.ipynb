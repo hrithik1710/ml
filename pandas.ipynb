{
 "cells": [
  {
   "cell_type": "code",
   "execution_count": 11,
   "metadata": {},
   "outputs": [
    {
     "name": "stdout",
     "output_type": "stream",
     "text": [
      "<class 'pandas.core.frame.DataFrame'>\n",
      "RangeIndex: 28 entries, 0 to 27\n",
      "Data columns (total 6 columns):\n",
      " #   Column             Non-Null Count  Dtype  \n",
      "---  ------             --------------  -----  \n",
      " 0   Name               28 non-null     object \n",
      " 1    \"Team\"            28 non-null     object \n",
      " 2    \"Position\"        28 non-null     object \n",
      " 3    \"Height(inches)\"  28 non-null     int64  \n",
      " 4    \"Weight(lbs)\"     28 non-null     int64  \n",
      " 5    \"Age\"             24 non-null     float64\n",
      "dtypes: float64(1), int64(2), object(3)\n",
      "memory usage: 1.0+ KB\n",
      "(28, 6)\n",
      "168\n"
     ]
    }
   ],
   "source": [
    "import pandas as pd\n",
    "df= pd.read_csv(r'C:\\Users\\Hritik\\Desktop\\Nulll.csv')\n",
    "df.info()\n",
    "print(df.shape) #{row,column}\n",
    "print(df.size) #size of all data"
   ]
  },
  {
   "cell_type": "code",
   "execution_count": 12,
   "metadata": {},
   "outputs": [
    {
     "name": "stdout",
     "output_type": "stream",
     "text": [
      "Name                 0\n",
      " \"Team\"              0\n",
      " \"Position\"          0\n",
      " \"Height(inches)\"    0\n",
      " \"Weight(lbs)\"       0\n",
      " \"Age\"               4\n",
      "dtype: int64\n"
     ]
    }
   ],
   "source": [
    "#to check null value in the csv file than\n",
    "print(df.isnull().sum())"
   ]
  },
  {
   "cell_type": "code",
   "execution_count": 13,
   "metadata": {},
   "outputs": [
    {
     "name": "stdout",
     "output_type": "stream",
     "text": [
      "Name                 0\n",
      " \"Team\"              0\n",
      " \"Position\"          0\n",
      " \"Height(inches)\"    0\n",
      " \"Weight(lbs)\"       0\n",
      " \"Age\"               0\n",
      "dtype: int64\n"
     ]
    }
   ],
   "source": [
    "#to delete the null value row than\n",
    "df.dropna(inplace=True) #inplace will save in file\n",
    "\n",
    "#check know isnull\n",
    "print(df.isnull().sum()) #no null value"
   ]
  },
  {
   "cell_type": "code",
   "execution_count": 14,
   "metadata": {},
   "outputs": [
    {
     "data": {
      "text/plain": [
       "1"
      ]
     },
     "execution_count": 14,
     "metadata": {},
     "output_type": "execute_result"
    }
   ],
   "source": [
    "#know duplicay\n",
    "df.duplicated().sum()"
   ]
  },
  {
   "cell_type": "code",
   "execution_count": 18,
   "metadata": {},
   "outputs": [
    {
     "name": "stdout",
     "output_type": "stream",
     "text": [
      "0\n"
     ]
    }
   ],
   "source": [
    "df.drop_duplicates(keep='first',inplace=True)\n",
    "print(df.duplicated().sum())"
   ]
  },
  {
   "cell_type": "code",
   "execution_count": 24,
   "metadata": {},
   "outputs": [
    {
     "name": "stdout",
     "output_type": "stream",
     "text": [
      "<class 'pandas.core.frame.DataFrame'>\n",
      "Int64Index: 23 entries, 0 to 26\n",
      "Data columns (total 6 columns):\n",
      " #   Column             Non-Null Count  Dtype  \n",
      "---  ------             --------------  -----  \n",
      " 0   Name               23 non-null     object \n",
      " 1    \"Team\"            23 non-null     object \n",
      " 2    \"Position\"        23 non-null     object \n",
      " 3    \"Height(inches)\"  23 non-null     int64  \n",
      " 4    \"Weight(lbs)\"     23 non-null     int64  \n",
      " 5    \"Age\"             23 non-null     float64\n",
      "dtypes: float64(1), int64(2), object(3)\n",
      "memory usage: 1012.0+ bytes\n",
      "None\n",
      "(23, 6) 138\n"
     ]
    }
   ],
   "source": [
    "#after removing null and duplicate items\n",
    "print(df.info())\n",
    "print(df.shape,df.size)"
   ]
  },
  {
   "cell_type": "code",
   "execution_count": 21,
   "metadata": {},
   "outputs": [
    {
     "data": {
      "text/plain": [
       "0        Adam Donachie\n",
       "1            Paul Bako\n",
       "2      Ramon Hernandez\n",
       "3         Kevin Millar\n",
       "5        Brian Roberts\n",
       "6        Miguel Tejada\n",
       "7          Melvin Mora\n",
       "8          Aubrey Huff\n",
       "10     Jeff Fiorentino\n",
       "11       Freddie Bynum\n",
       "12       Nick Markakis\n",
       "13       Brandon Fahey\n",
       "14     Corey Patterson\n",
       "15          Jay Payton\n",
       "17         Erik Bedard\n",
       "18         Hayden Penn\n",
       "19         Adam Loewen\n",
       "20      Daniel Cabrera\n",
       "21      Steve Trachsel\n",
       "22        Jaret Wright\n",
       "24    Scott Williamson\n",
       "25        John Parrish\n",
       "26          Danys Baez\n",
       "Name: Name, dtype: object"
      ]
     },
     "execution_count": 21,
     "metadata": {},
     "output_type": "execute_result"
    }
   ],
   "source": [
    "#to print the specific coloumn\n",
    "print(df['Name'])"
   ]
  },
  {
   "cell_type": "code",
   "execution_count": 22,
   "metadata": {},
   "outputs": [
    {
     "data": {
      "text/html": [
       "<div>\n",
       "<style scoped>\n",
       "    .dataframe tbody tr th:only-of-type {\n",
       "        vertical-align: middle;\n",
       "    }\n",
       "\n",
       "    .dataframe tbody tr th {\n",
       "        vertical-align: top;\n",
       "    }\n",
       "\n",
       "    .dataframe thead th {\n",
       "        text-align: right;\n",
       "    }\n",
       "</style>\n",
       "<table border=\"1\" class=\"dataframe\">\n",
       "  <thead>\n",
       "    <tr style=\"text-align: right;\">\n",
       "      <th></th>\n",
       "      <th>Name</th>\n",
       "      <th>\"Age\"</th>\n",
       "      <th>\"Position\"</th>\n",
       "    </tr>\n",
       "  </thead>\n",
       "  <tbody>\n",
       "    <tr>\n",
       "      <th>0</th>\n",
       "      <td>Adam Donachie</td>\n",
       "      <td>22.99</td>\n",
       "      <td>\"Catcher\"</td>\n",
       "    </tr>\n",
       "    <tr>\n",
       "      <th>1</th>\n",
       "      <td>Paul Bako</td>\n",
       "      <td>34.69</td>\n",
       "      <td>\"Catcher\"</td>\n",
       "    </tr>\n",
       "    <tr>\n",
       "      <th>2</th>\n",
       "      <td>Ramon Hernandez</td>\n",
       "      <td>30.78</td>\n",
       "      <td>\"Catcher\"</td>\n",
       "    </tr>\n",
       "    <tr>\n",
       "      <th>3</th>\n",
       "      <td>Kevin Millar</td>\n",
       "      <td>35.43</td>\n",
       "      <td>\"First Baseman\"</td>\n",
       "    </tr>\n",
       "    <tr>\n",
       "      <th>5</th>\n",
       "      <td>Brian Roberts</td>\n",
       "      <td>29.39</td>\n",
       "      <td>\"Second Baseman\"</td>\n",
       "    </tr>\n",
       "    <tr>\n",
       "      <th>6</th>\n",
       "      <td>Miguel Tejada</td>\n",
       "      <td>30.77</td>\n",
       "      <td>\"Shortstop\"</td>\n",
       "    </tr>\n",
       "    <tr>\n",
       "      <th>7</th>\n",
       "      <td>Melvin Mora</td>\n",
       "      <td>35.07</td>\n",
       "      <td>\"Third Baseman\"</td>\n",
       "    </tr>\n",
       "    <tr>\n",
       "      <th>8</th>\n",
       "      <td>Aubrey Huff</td>\n",
       "      <td>30.19</td>\n",
       "      <td>\"Third Baseman\"</td>\n",
       "    </tr>\n",
       "    <tr>\n",
       "      <th>10</th>\n",
       "      <td>Jeff Fiorentino</td>\n",
       "      <td>23.88</td>\n",
       "      <td>\"Outfielder\"</td>\n",
       "    </tr>\n",
       "    <tr>\n",
       "      <th>11</th>\n",
       "      <td>Freddie Bynum</td>\n",
       "      <td>26.96</td>\n",
       "      <td>\"Outfielder\"</td>\n",
       "    </tr>\n",
       "    <tr>\n",
       "      <th>12</th>\n",
       "      <td>Nick Markakis</td>\n",
       "      <td>23.29</td>\n",
       "      <td>\"Outfielder\"</td>\n",
       "    </tr>\n",
       "    <tr>\n",
       "      <th>13</th>\n",
       "      <td>Brandon Fahey</td>\n",
       "      <td>26.11</td>\n",
       "      <td>\"Outfielder\"</td>\n",
       "    </tr>\n",
       "    <tr>\n",
       "      <th>14</th>\n",
       "      <td>Corey Patterson</td>\n",
       "      <td>27.55</td>\n",
       "      <td>\"Outfielder\"</td>\n",
       "    </tr>\n",
       "    <tr>\n",
       "      <th>15</th>\n",
       "      <td>Jay Payton</td>\n",
       "      <td>34.27</td>\n",
       "      <td>\"Outfielder\"</td>\n",
       "    </tr>\n",
       "    <tr>\n",
       "      <th>17</th>\n",
       "      <td>Erik Bedard</td>\n",
       "      <td>27.99</td>\n",
       "      <td>\"Starting Pitcher\"</td>\n",
       "    </tr>\n",
       "    <tr>\n",
       "      <th>18</th>\n",
       "      <td>Hayden Penn</td>\n",
       "      <td>22.38</td>\n",
       "      <td>\"Starting Pitcher\"</td>\n",
       "    </tr>\n",
       "    <tr>\n",
       "      <th>19</th>\n",
       "      <td>Adam Loewen</td>\n",
       "      <td>22.89</td>\n",
       "      <td>\"Starting Pitcher\"</td>\n",
       "    </tr>\n",
       "    <tr>\n",
       "      <th>20</th>\n",
       "      <td>Daniel Cabrera</td>\n",
       "      <td>25.76</td>\n",
       "      <td>\"Starting Pitcher\"</td>\n",
       "    </tr>\n",
       "    <tr>\n",
       "      <th>21</th>\n",
       "      <td>Steve Trachsel</td>\n",
       "      <td>36.33</td>\n",
       "      <td>\"Starting Pitcher\"</td>\n",
       "    </tr>\n",
       "    <tr>\n",
       "      <th>22</th>\n",
       "      <td>Jaret Wright</td>\n",
       "      <td>31.17</td>\n",
       "      <td>\"Starting Pitcher\"</td>\n",
       "    </tr>\n",
       "    <tr>\n",
       "      <th>24</th>\n",
       "      <td>Scott Williamson</td>\n",
       "      <td>31.03</td>\n",
       "      <td>\"Relief Pitcher\"</td>\n",
       "    </tr>\n",
       "    <tr>\n",
       "      <th>25</th>\n",
       "      <td>John Parrish</td>\n",
       "      <td>29.26</td>\n",
       "      <td>\"Relief Pitcher\"</td>\n",
       "    </tr>\n",
       "    <tr>\n",
       "      <th>26</th>\n",
       "      <td>Danys Baez</td>\n",
       "      <td>29.47</td>\n",
       "      <td>\"Relief Pitcher\"</td>\n",
       "    </tr>\n",
       "  </tbody>\n",
       "</table>\n",
       "</div>"
      ],
      "text/plain": [
       "                Name   \"Age\"           \"Position\"\n",
       "0      Adam Donachie   22.99            \"Catcher\"\n",
       "1          Paul Bako   34.69            \"Catcher\"\n",
       "2    Ramon Hernandez   30.78            \"Catcher\"\n",
       "3       Kevin Millar   35.43      \"First Baseman\"\n",
       "5      Brian Roberts   29.39     \"Second Baseman\"\n",
       "6      Miguel Tejada   30.77          \"Shortstop\"\n",
       "7        Melvin Mora   35.07      \"Third Baseman\"\n",
       "8        Aubrey Huff   30.19      \"Third Baseman\"\n",
       "10   Jeff Fiorentino   23.88         \"Outfielder\"\n",
       "11     Freddie Bynum   26.96         \"Outfielder\"\n",
       "12     Nick Markakis   23.29         \"Outfielder\"\n",
       "13     Brandon Fahey   26.11         \"Outfielder\"\n",
       "14   Corey Patterson   27.55         \"Outfielder\"\n",
       "15        Jay Payton   34.27         \"Outfielder\"\n",
       "17       Erik Bedard   27.99   \"Starting Pitcher\"\n",
       "18       Hayden Penn   22.38   \"Starting Pitcher\"\n",
       "19       Adam Loewen   22.89   \"Starting Pitcher\"\n",
       "20    Daniel Cabrera   25.76   \"Starting Pitcher\"\n",
       "21    Steve Trachsel   36.33   \"Starting Pitcher\"\n",
       "22      Jaret Wright   31.17   \"Starting Pitcher\"\n",
       "24  Scott Williamson   31.03     \"Relief Pitcher\"\n",
       "25      John Parrish   29.26     \"Relief Pitcher\"\n",
       "26        Danys Baez   29.47     \"Relief Pitcher\""
      ]
     },
     "execution_count": 22,
     "metadata": {},
     "output_type": "execute_result"
    }
   ],
   "source": [
    "df[['Name',' \"Age\"',' \"Position\"']]"
   ]
  },
  {
   "cell_type": "code",
   "execution_count": 29,
   "metadata": {},
   "outputs": [
    {
     "name": "stdout",
     "output_type": "stream",
     "text": [
      "<class 'pandas.core.frame.DataFrame'>\n",
      "Int64Index: 23 entries, 0 to 26\n",
      "Data columns (total 6 columns):\n",
      " #   Column    Non-Null Count  Dtype  \n",
      "---  ------    --------------  -----  \n",
      " 0   Name      23 non-null     object \n",
      " 1   Team      23 non-null     object \n",
      " 2   Position  23 non-null     object \n",
      " 3   Height    23 non-null     int64  \n",
      " 4   Weight    23 non-null     int64  \n",
      " 5   Age       23 non-null     float64\n",
      "dtypes: float64(1), int64(2), object(3)\n",
      "memory usage: 1012.0+ bytes\n"
     ]
    }
   ],
   "source": [
    "#column name are replaced\n",
    "df.rename(columns={' \"Team\"': 'Team',' \"Position\"': 'Position',' \"Height(inches)\"': 'Height',' \"Age\"': 'Age',' \"Weight(lbs)\"': 'Weight'},inplace=True)\n",
    "df.info()"
   ]
  },
  {
   "cell_type": "code",
   "execution_count": 30,
   "metadata": {},
   "outputs": [
    {
     "name": "stdout",
     "output_type": "stream",
     "text": [
      "{'Name': {0: 'Adam Donachie', 1: 'Paul Bako', 2: 'Ramon Hernandez', 3: 'Kevin Millar', 5: 'Brian Roberts', 6: 'Miguel Tejada', 7: 'Melvin Mora', 8: 'Aubrey Huff', 10: 'Jeff Fiorentino', 11: 'Freddie Bynum', 12: 'Nick Markakis', 13: 'Brandon Fahey', 14: 'Corey Patterson', 15: 'Jay Payton', 17: 'Erik Bedard', 18: 'Hayden Penn', 19: 'Adam Loewen', 20: 'Daniel Cabrera', 21: 'Steve Trachsel', 22: 'Jaret Wright', 24: 'Scott Williamson', 25: 'John Parrish', 26: 'Danys Baez'}, 'Team': {0: ' \"BAL\"', 1: ' \"BAL\"', 2: ' \"BAL\"', 3: ' \"BAL\"', 5: ' \"BAL\"', 6: ' \"BAL\"', 7: ' \"BAL\"', 8: ' \"BAL\"', 10: ' \"BAL\"', 11: ' \"BAL\"', 12: ' \"BAL\"', 13: ' \"BAL\"', 14: ' \"BAL\"', 15: ' \"BAL\"', 17: ' \"BAL\"', 18: ' \"BAL\"', 19: ' \"BAL\"', 20: ' \"BAL\"', 21: ' \"BAL\"', 22: ' \"BAL\"', 24: ' \"BAL\"', 25: ' \"BAL\"', 26: ' \"BAL\"'}, 'Position': {0: ' \"Catcher\"', 1: ' \"Catcher\"', 2: ' \"Catcher\"', 3: ' \"First Baseman\"', 5: ' \"Second Baseman\"', 6: ' \"Shortstop\"', 7: ' \"Third Baseman\"', 8: ' \"Third Baseman\"', 10: ' \"Outfielder\"', 11: ' \"Outfielder\"', 12: ' \"Outfielder\"', 13: ' \"Outfielder\"', 14: ' \"Outfielder\"', 15: ' \"Outfielder\"', 17: ' \"Starting Pitcher\"', 18: ' \"Starting Pitcher\"', 19: ' \"Starting Pitcher\"', 20: ' \"Starting Pitcher\"', 21: ' \"Starting Pitcher\"', 22: ' \"Starting Pitcher\"', 24: ' \"Relief Pitcher\"', 25: ' \"Relief Pitcher\"', 26: ' \"Relief Pitcher\"'}, 'Height': {0: 74, 1: 74, 2: 72, 3: 72, 5: 69, 6: 69, 7: 71, 8: 76, 10: 73, 11: 73, 12: 74, 13: 74, 14: 69, 15: 70, 17: 73, 18: 75, 19: 78, 20: 79, 21: 76, 22: 74, 24: 72, 25: 71, 26: 75}, 'Weight': {0: 180, 1: 215, 2: 210, 3: 210, 5: 176, 6: 209, 7: 200, 8: 231, 10: 188, 11: 180, 12: 185, 13: 160, 14: 180, 15: 185, 17: 189, 18: 185, 19: 219, 20: 230, 21: 205, 22: 230, 24: 180, 25: 192, 26: 225}, 'Age': {0: 22.99, 1: 34.69, 2: 30.78, 3: 35.43, 5: 29.39, 6: 30.77, 7: 35.07, 8: 30.19, 10: 23.88, 11: 26.96, 12: 23.29, 13: 26.11, 14: 27.55, 15: 34.27, 17: 27.99, 18: 22.38, 19: 22.89, 20: 25.76, 21: 36.33, 22: 31.17, 24: 31.03, 25: 29.26, 26: 29.47}}\n"
     ]
    }
   ],
   "source": [
    "#elements to dict form\n",
    "print(df.to_dict())"
   ]
  },
  {
   "cell_type": "code",
   "execution_count": null,
   "metadata": {},
   "outputs": [],
   "source": [
    "\n"
   ]
  },
  {
   "cell_type": "code",
   "execution_count": null,
   "metadata": {},
   "outputs": [],
   "source": []
  }
 ],
 "metadata": {
  "kernelspec": {
   "display_name": "Python 3",
   "language": "python",
   "name": "python3"
  },
  "language_info": {
   "codemirror_mode": {
    "name": "ipython",
    "version": 3
   },
   "file_extension": ".py",
   "mimetype": "text/x-python",
   "name": "python",
   "nbconvert_exporter": "python",
   "pygments_lexer": "ipython3",
   "version": "3.8.3"
  }
 },
 "nbformat": 4,
 "nbformat_minor": 4
}
